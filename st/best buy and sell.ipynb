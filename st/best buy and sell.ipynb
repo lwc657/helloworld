{
 "cells": [
  {
   "cell_type": "code",
   "execution_count": 42,
   "metadata": {
    "collapsed": true
   },
   "outputs": [],
   "source": [
    "%matplotlib inline\n",
    "#import sys\n",
    "#import numpy as np\n",
    "import pandas as pd\n",
    "import matplotlib.pyplot as plt\n",
    "\n",
    "\n",
    "#df = pd.read_csv(sys.argv[1])\n",
    "#transFeeRate= float(sys.argv[2])\n",
    "df = pd.read_csv(\"SPY.csv\")\n",
    "\n",
    "priceVec = df[\"Adj Close\"].values"
   ]
  },
  {
   "cell_type": "code",
   "execution_count": 43,
   "metadata": {},
   "outputs": [],
   "source": [
    "def myOptimAction(priceVec, transFeeRate):\n",
    "    import numpy as np\n",
    "    dataLen = len(priceVec)\n",
    "    actionVec = np.zeros(dataLen)\n",
    "    \n",
    "    ic=dataLen-1\n",
    "    actionVec[ic] = -1\n",
    "    for ie in range(dataLen-1,-1,-1):\n",
    "        if actionVec[ic]==1:\n",
    "            if priceVec[ie]<priceVec[ic]:\n",
    "                actionVec[ie]=1\n",
    "                \n",
    "                ic=ie\n",
    "\n",
    "            elif priceVec[ie]*(1-transFeeRate)**2>priceVec[ic]:\n",
    "                actionVec[ie]=-1\n",
    "                \n",
    "                ic=ie\n",
    "\n",
    "        elif actionVec[ic]==-1:\n",
    "            if priceVec[ie]/(1-transFeeRate)**2<priceVec[ic]:\n",
    "                actionVec[ie]=1\n",
    "                \n",
    "                ic=ie\n",
    "  \n",
    "            elif priceVec[ie]>priceVec[ic]:\n",
    "                actionVec[ie]=-1\n",
    "        \n",
    "                ic=ie\n",
    "\n",
    "    actionVec[ic] = 0\n",
    "     \n",
    "    return actionVec\n"
   ]
  },
  {
   "cell_type": "code",
   "execution_count": 44,
   "metadata": {
    "collapsed": true
   },
   "outputs": [],
   "source": [
    "def profitEstimateOpen(priceVec, transFeeRate, actionVec):\n",
    "    import numpy as np\n",
    "    \n",
    "    capital=1\n",
    "    capitalOrig=capital\n",
    "    dataCount=len(priceVec)\n",
    "    suggestedAction=actionVec\n",
    "    stockHolding=np.zeros((dataCount,1))\n",
    "    total = np.zeros((dataCount,1))\n",
    "    realAction=np.zeros((dataCount,1))\n",
    "    total[0] = capital\n",
    "    for ic in range(dataCount):\n",
    "        currPrice = priceVec[ic]\n",
    "        if ic > 0:\n",
    "            stockHolding[ic]=stockHolding[ic-1]\n",
    "        if suggestedAction[ic] == 1:\n",
    "            if stockHolding[ic]==0:            \n",
    "                stockHolding[ic]=capital*(1-transFeeRate)/currPrice\n",
    "                capital=0\n",
    "                realAction[ic]=1\n",
    "        elif suggestedAction[ic] == -1:\n",
    "            if stockHolding[ic]>0:\n",
    "                capital=stockHolding[ic]*currPrice*(1-transFeeRate)\n",
    "                stockHolding[ic]=0\n",
    "                realAction[ic]=-1\n",
    "        elif suggestedAction[ic] == 0:\n",
    "            realAction[ic]=0\n",
    "        else:\n",
    "            assert False\n",
    "        total[ic]=capital+stockHolding[ic]*currPrice*(1-transFeeRate)\n",
    "    returnRate=(total[-1]-capitalOrig)/capitalOrig\n",
    "    return returnRate\n"
   ]
  },
  {
   "cell_type": "code",
   "execution_count": null,
   "metadata": {
    "collapsed": true
   },
   "outputs": [],
   "source": []
  },
  {
   "cell_type": "markdown",
   "metadata": {},
   "source": [
    "手續費是 1% 的時候的最佳操作"
   ]
  },
  {
   "cell_type": "code",
   "execution_count": 45,
   "metadata": {},
   "outputs": [
    {
     "data": {
      "text/plain": [
       "<matplotlib.collections.PathCollection at 0x1c83fff2c50>"
      ]
     },
     "execution_count": 45,
     "metadata": {},
     "output_type": "execute_result"
    },
    {
     "data": {
      "image/png": "[encoded data removed]",
      "text/plain": [
       "<Figure size 432x288 with 1 Axes>"
      ]
     },
     "metadata": {},
     "output_type": "display_data"
    }
   ],
   "source": [
    "transFeeRate= float(0.01)\n",
    "actionVec = myOptimAction(priceVec, transFeeRate)\n",
    "\n",
    "i= 0\n",
    "while actionVec[i]==0:\n",
    "    i = i + 1\n",
    "s = actionVec[i]  \n",
    "i = i+1  \n",
    "while i<len(actionVec):\n",
    "    if actionVec[i] == s:\n",
    "        actionVec[i] = 0\n",
    "    elif (s * actionVec[i]) == -1:\n",
    "        s = actionVec[i]\n",
    "    i = i + 1 \n",
    "    \n",
    "cutLength = 160\n",
    "cutLength0 = 80\n",
    "actionVec = actionVec[cutLength0:cutLength]\n",
    "priceVec = priceVec[cutLength0:cutLength]\n",
    "\n",
    "ind = np.where(actionVec!=0)[0]\n",
    "ind2 = priceVec[actionVec!=0]\n",
    "\n",
    "tPoint = np.concatenate((ind[:,None], ind2[:,None]), axis=1)\n",
    "plt.plot(priceVec[:])\n",
    "plt.scatter(tPoint[:,0],tPoint[:,1])"
   ]
  },
  {
   "cell_type": "markdown",
   "metadata": {},
   "source": [
    "手續費是0%的時候的最佳操作"
   ]
  },
  {
   "cell_type": "code",
   "execution_count": 47,
   "metadata": {},
   "outputs": [
    {
     "data": {
      "text/plain": [
       "<matplotlib.collections.PathCollection at 0x1c841a6acf8>"
      ]
     },
     "execution_count": 47,
     "metadata": {},
     "output_type": "execute_result"
    },
    {
     "data": {
      "image/png": "[encoded data removed]",
      "text/plain": [
       "<Figure size 432x288 with 1 Axes>"
      ]
     },
     "metadata": {},
     "output_type": "display_data"
    }
   ],
   "source": [
    "transFeeRate= float(0)\n",
    "actionVec = myOptimAction(priceVec, transFeeRate)\n",
    "\n",
    "i= 0\n",
    "while actionVec[i]==0:\n",
    "    i = i + 1\n",
    "s = actionVec[i]  \n",
    "i = i+1  \n",
    "while i<len(actionVec):\n",
    "    if actionVec[i] == s:\n",
    "        actionVec[i] = 0\n",
    "    elif (s * actionVec[i]) == -1:\n",
    "        s = actionVec[i]\n",
    "    i = i + 1 \n",
    "    \n",
    "ind = np.where(actionVec!=0)[0]\n",
    "ind2 = priceVec[actionVec!=0]\n",
    "\n",
    "tPoint = np.concatenate((ind[:,None], ind2[:,None]), axis=1)\n",
    "plt.plot(priceVec[:])\n",
    "plt.scatter(tPoint[:,0],tPoint[:,1])"
   ]
  },
  {
   "cell_type": "code",
   "execution_count": 27,
   "metadata": {},
   "outputs": [
    {
     "name": "stdout",
     "output_type": "stream",
     "text": [
      "212.08324354543407\n"
     ]
    }
   ],
   "source": [
    "returnRate = profitEstimateOpen(priceVec, transFeeRate, actionVec)\n",
    "print(returnRate[0])"
   ]
  }
 ],
 "metadata": {
  "kernelspec": {
   "display_name": "Python 3",
   "language": "python",
   "name": "python3"
  },
  "language_info": {
   "codemirror_mode": {
    "name": "ipython",
    "version": 3
   },
   "file_extension": ".py",
   "mimetype": "text/x-python",
   "name": "python",
   "nbconvert_exporter": "python",
   "pygments_lexer": "ipython3",
   "version": "3.6.3"
  }
 },
 "nbformat": 4,
 "nbformat_minor": 2
}
